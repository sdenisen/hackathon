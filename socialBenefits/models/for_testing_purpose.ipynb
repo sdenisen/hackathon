{
 "cells": [
  {
   "cell_type": "code",
   "execution_count": 23,
   "outputs": [
    {
     "name": "stdout",
     "text": [
      "['No']\n",
      "[{'What': 'gouda'}, {'What': 'sausage'}, {'What': 'steak'}]\n",
      "[{'What': 'cookie'}, {'What': 'limonade'}]\n",
      "[{'What': 'cookie'}]\n",
      "[{'What': 'dessert'}]\n",
      "[{'What': 'sweet'}]\n",
      "['No']\n",
      "[{'What': 'пенсия_выше_мрот'}, {'What': 'пенсия_ниже_мрот'}]\n"
     ],
     "output_type": "stream"
    }
   ],
   "source": [
    "import pytholog as pl\n",
    "new_kb = pl.KnowledgeBase(\"flavor\")\n",
    "new_kb([\"предпочтения(noor, sausage)\",\n",
    "        \"предпочтения(melissa, pasta)\",\n",
    "        \"предпочтения(dmitry, cookie)\",\n",
    "        \"предпочтения(nikita, sausage)\",\n",
    "        \"предпочтения(assel, limonade)\",\n",
    "        \"тип_еды(gouda, cheese)\",\n",
    "        \"тип_еды(ritz, cracker)\",\n",
    "        \"тип_еды(steak, meat)\",\n",
    "        \"тип_еды(sausage, meat)\",\n",
    "        \"тип_еды(limonade, juice)\",\n",
    "        \"тип_еды(cookie, dessert)\",\n",
    "        \"flavor(sweet, dessert)\",\n",
    "        \"flavor(savory, meat)\",\n",
    "        \"flavor(savory, cheese)\",\n",
    "        \"flavor(sweet, juice)\",\n",
    "        \"food_flavor(X, Y) :- тип_еды(X, Z), flavor(Y, Z)\",\n",
    "        \"dish_to_like(X, Y) :- предпочтения(X, L), тип_еды(L, T), flavor(F, T), food_flavor(Y, F)\",\n",
    "        \"факт1(состояние, пенсия_выше_мрот)\",\n",
    "        \"факт2(состояние, пенсия_ниже_мрот)\",\n",
    "        \"факт3(состояние, пенсионер_да)\",\n",
    "        \"факт4(состояние, пенсионер_нет)\",\n",
    "        \"факт5(состояние, работающий_да)\",\n",
    "        \"факт6(состояние, работающий_нет)\",\n",
    "        \"правило(X, Y) :-\"\n",
    "        ])\n",
    "print(new_kb.query(pl.Expr(\"dish_to_like(melissa, What)\")))\n",
    "print(new_kb.query(pl.Expr(\"dish_to_like(noor, What)\")))\n",
    "print(new_kb.query(pl.Expr(\"dish_to_like(dmitry, What)\")))\n",
    "print(new_kb.query(pl.Expr(\"предпочтения(dmitry, What)\")))\n",
    "print(new_kb.query(pl.Expr(\"тип_еды(cookie, What)\")))\n",
    "print(new_kb.query(pl.Expr(\"flavor(What, dessert)\")))\n",
    "print(new_kb.query(pl.Expr(\"food_flavor(What, dessert)\")))\n",
    "print(new_kb.query(pl.Expr(\"Критерий_1(описание, What)\")))"
   ],
   "metadata": {
    "collapsed": false,
    "pycharm": {
     "name": "#%%\n",
     "is_executing": false
    }
   }
  }
 ],
 "metadata": {
  "kernelspec": {
   "display_name": "Python 3",
   "language": "python",
   "name": "python3"
  },
  "language_info": {
   "codemirror_mode": {
    "name": "ipython",
    "version": 2
   },
   "file_extension": ".py",
   "mimetype": "text/x-python",
   "name": "python",
   "nbconvert_exporter": "python",
   "pygments_lexer": "ipython2",
   "version": "2.7.6"
  },
  "pycharm": {
   "stem_cell": {
    "cell_type": "raw",
    "source": [],
    "metadata": {
     "collapsed": false
    }
   }
  }
 },
 "nbformat": 4,
 "nbformat_minor": 0
}